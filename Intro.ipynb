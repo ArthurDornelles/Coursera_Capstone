{
 "cells": [
  {
   "cell_type": "markdown",
   "metadata": {},
   "source": [
    "<h1> <b> Comercial Leads in Porto Alegre - Brazil  </h1> </b>"
   ]
  },
  {
   "cell_type": "markdown",
   "metadata": {},
   "source": [
    "<b> abstract"
   ]
  },
  {
   "cell_type": "markdown",
   "metadata": {},
   "source": [
    "  That's a real problem from the junior company where I work in Brazil. We work as volunteers to enhance the energy efficiency from comercial places. So, we have, what we want is to map the most popular venues per neighborhood to enhance our products."
   ]
  },
  {
   "cell_type": "markdown",
   "metadata": {},
   "source": [
    "<b> Introduction"
   ]
  },
  {
   "cell_type": "markdown",
   "metadata": {},
   "source": [
    "The first thing that we need, is to map the neighborhoods of Porto Alegre. We can obtain the data of neighborhoods by the wikipedia link:https://pt.wikipedia.org/wiki/Lista_de_bairros_de_Porto_Alegre . Lista de bairros, is the portuguese sentence for list of neighborhoods. Portuguese is the brazilian official language."
   ]
  },
  {
   "cell_type": "markdown",
   "metadata": {},
   "source": [
    "After we extract the info from wikipedia, we can obtain the data of locations per neighborhood with the csv file \"POAbairros3\". I've made it myself with an website witch gives the long. and lat. coordinates."
   ]
  },
  {
   "cell_type": "markdown",
   "metadata": {},
   "source": [
    "We will use also the foursquare website to search all the venue info that we are looking for."
   ]
  },
  {
   "cell_type": "code",
   "execution_count": 5,
   "metadata": {},
   "outputs": [],
   "source": []
  },
  {
   "cell_type": "code",
   "execution_count": null,
   "metadata": {},
   "outputs": [],
   "source": []
  }
 ],
 "metadata": {
  "kernelspec": {
   "display_name": "Python 3",
   "language": "python",
   "name": "python3"
  },
  "language_info": {
   "codemirror_mode": {
    "name": "ipython",
    "version": 3
   },
   "file_extension": ".py",
   "mimetype": "text/x-python",
   "name": "python",
   "nbconvert_exporter": "python",
   "pygments_lexer": "ipython3",
   "version": "3.7.6"
  }
 },
 "nbformat": 4,
 "nbformat_minor": 4
}
